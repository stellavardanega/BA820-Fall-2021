{
  "nbformat": 4,
  "nbformat_minor": 0,
  "metadata": {
    "colab": {
      "name": "09 - Warmup - Airline Intents - Sentiment Trending Exercise",
      "private_outputs": true,
      "provenance": [],
      "collapsed_sections": []
    },
    "kernelspec": {
      "name": "python3",
      "display_name": "Python 3"
    },
    "language_info": {
      "name": "python"
    }
  },
  "cells": [
    {
      "cell_type": "code",
      "metadata": {
        "id": "G4y54La9cbFj"
      },
      "source": [
        "! pip install umap-learn"
      ],
      "execution_count": null,
      "outputs": []
    },
    {
      "cell_type": "code",
      "metadata": {
        "id": "Ije_z66Jcgha"
      },
      "source": [
        "import pandas as pd\n",
        "from umap import UMAP"
      ],
      "execution_count": null,
      "outputs": []
    },
    {
      "cell_type": "code",
      "metadata": {
        "id": "jYo64r0ucd-a"
      },
      "source": [
        "SQL = \"SELECT * from `questrom.datasets.airline-intents` where intent in ('atis_airfare', 'atis_ground_service', 'atis_airline', 'atis_abbreviation')\"\n",
        "msgs = pd.read_gbq(SQL, \"questrom\")"
      ],
      "execution_count": null,
      "outputs": []
    },
    {
      "cell_type": "code",
      "metadata": {
        "id": "JSXpOtFmdSOb"
      },
      "source": [
        "msgs.head(3)"
      ],
      "execution_count": null,
      "outputs": []
    },
    {
      "cell_type": "code",
      "metadata": {
        "id": "lgsf2ExmclZh"
      },
      "source": [
        "# vectorize the data\n",
        "from sklearn.feature_extraction.text import CountVectorizer, TfidfVectorizer\n",
        "\n"
      ],
      "execution_count": null,
      "outputs": []
    },
    {
      "cell_type": "code",
      "metadata": {
        "id": "w0FvvzSRdJqE"
      },
      "source": [
        "# vectorize the data\n",
        "tf = TfidfVectorizer()\n",
        "tf.fit(msgs.text)\n",
        "\n",
        "dtm = tf.transform(msgs.text)\n",
        "\n",
        "\n"
      ],
      "execution_count": null,
      "outputs": []
    },
    {
      "cell_type": "code",
      "metadata": {
        "id": "-0NY9wIpjQ6r"
      },
      "source": [
        "type(dtm)"
      ],
      "execution_count": null,
      "outputs": []
    },
    {
      "cell_type": "code",
      "metadata": {
        "id": "24-8i_YLjSMX"
      },
      "source": [
        "dtm.shape"
      ],
      "execution_count": null,
      "outputs": []
    },
    {
      "cell_type": "code",
      "metadata": {
        "id": "tV-ufqckclg8"
      },
      "source": [
        "# umap for DR\n",
        "\n",
        "umap = UMAP(random_state=820)\n",
        "embeds = umap.fit_transform(dtm)\n"
      ],
      "execution_count": null,
      "outputs": []
    },
    {
      "cell_type": "code",
      "metadata": {
        "id": "CjnOS2K5d9lm"
      },
      "source": [
        "type(embeds)"
      ],
      "execution_count": null,
      "outputs": []
    },
    {
      "cell_type": "code",
      "metadata": {
        "id": "u-iH35Xwd-vD"
      },
      "source": [
        "embeds.shape"
      ],
      "execution_count": null,
      "outputs": []
    },
    {
      "cell_type": "code",
      "metadata": {
        "id": "W9jyxEZ6eAgE"
      },
      "source": [
        "msgs.shape"
      ],
      "execution_count": null,
      "outputs": []
    },
    {
      "cell_type": "code",
      "metadata": {
        "id": "AG4QGziVclkH"
      },
      "source": [
        "# scatterplot for viz\n",
        "import seaborn as sns"
      ],
      "execution_count": null,
      "outputs": []
    },
    {
      "cell_type": "code",
      "metadata": {
        "id": "RUBHmy81eG2x"
      },
      "source": [
        "# plot it up\n",
        "sns.scatterplot(x=embeds[:, 0], y=embeds[:, 1], hue=msgs.intent)\n"
      ],
      "execution_count": null,
      "outputs": []
    },
    {
      "cell_type": "code",
      "metadata": {
        "id": "Rpr_LcBMeZA2"
      },
      "source": [
        ""
      ],
      "execution_count": null,
      "outputs": []
    },
    {
      "cell_type": "code",
      "metadata": {
        "id": "9fEpOqqiznY5"
      },
      "source": [
        ""
      ],
      "execution_count": null,
      "outputs": []
    },
    {
      "cell_type": "code",
      "metadata": {
        "id": "fRTstUCyzncO"
      },
      "source": [
        ""
      ],
      "execution_count": null,
      "outputs": []
    },
    {
      "cell_type": "code",
      "metadata": {
        "id": "vLzJoYdeznef"
      },
      "source": [
        "##  there is a table on big query\n",
        "##  questrom.datasets.bruins_twitter\n",
        "##\n",
        "##  get the records where the hour is 0,1,2,3\n",
        "##  this is not a select *, you have to filter records\n",
        "##  - TRICKY: apply afinn sentiment to each record\n",
        "##  - ensure that the data sorted by status_id\n",
        "##  - plot the sentiment score over the records (this is a timeseries - like view)\n",
        "##  - calculate the average sentiment by hour\n",
        "##\n",
        "##\n",
        "\n",
        "SQL = \"SELECT * from `questrom.datasets.bruins_twitter` where hour in (0,1,2,3)\"\n",
        "tweets = pd.read_gbq(SQL, \"questrom\")"
      ],
      "execution_count": null,
      "outputs": []
    },
    {
      "cell_type": "code",
      "metadata": {
        "id": "mmRftIkXzoHu"
      },
      "source": [
        "# a quick look\n",
        "tweets.sample(3)"
      ],
      "execution_count": null,
      "outputs": []
    },
    {
      "cell_type": "code",
      "metadata": {
        "id": "P0-Yl6Nkzq7b"
      },
      "source": [
        "# info of the dataset\n",
        "tweets.info()"
      ],
      "execution_count": null,
      "outputs": []
    },
    {
      "cell_type": "code",
      "metadata": {
        "id": "xzVORspfz_Qw"
      },
      "source": [
        "! pip install afinn"
      ],
      "execution_count": null,
      "outputs": []
    },
    {
      "cell_type": "code",
      "metadata": {
        "id": "23r-0pVRzynR"
      },
      "source": [
        "# apply the sentiment over all of the records\n",
        "from afinn import Afinn\n",
        "\n",
        "afinn = Afinn()\n",
        "\n",
        "# function\n",
        "def sentiment(text):\n",
        "  return afinn.score(text)\n",
        "\n"
      ],
      "execution_count": null,
      "outputs": []
    },
    {
      "cell_type": "code",
      "metadata": {
        "id": "ErcSJdt10Fps"
      },
      "source": [
        "# apply the sentiment score\n",
        "tweets['sent'] = tweets.text.apply(sentiment)"
      ],
      "execution_count": null,
      "outputs": []
    },
    {
      "cell_type": "code",
      "metadata": {
        "id": "XLw19VNA0ZEj"
      },
      "source": [
        "tweets.head(3)"
      ],
      "execution_count": null,
      "outputs": []
    },
    {
      "cell_type": "code",
      "metadata": {
        "id": "YC104-bE0bFg"
      },
      "source": [
        "# describe\n",
        "tweets.sent.describe()"
      ],
      "execution_count": null,
      "outputs": []
    },
    {
      "cell_type": "code",
      "metadata": {
        "id": "zbPbrzSm0fQH"
      },
      "source": [
        "# plot sentiment over time\n",
        "tweets.sort_values(\"status_id\", ascending=True, inplace=True)\n",
        "\n",
        "# properly handle the datetime\n",
        "tweets['created'] = pd.to_datetime(tweets.created_at)"
      ],
      "execution_count": null,
      "outputs": []
    },
    {
      "cell_type": "code",
      "metadata": {
        "id": "_4yla-H01HpH"
      },
      "source": [
        "# plot\n",
        "sns.lineplot(x=tweets.index, y=tweets.sent)\n"
      ],
      "execution_count": null,
      "outputs": []
    },
    {
      "cell_type": "code",
      "metadata": {
        "id": "3czEp-tm1OHe"
      },
      "source": [
        "sns.lineplot(x=tweets.created, y=tweets.sent)"
      ],
      "execution_count": null,
      "outputs": []
    },
    {
      "cell_type": "code",
      "metadata": {
        "id": "22S_liSH1nKb"
      },
      "source": [
        "# aggregate by hour\n",
        "tweets.groupby(\"hour\").agg({'sent':['size', 'mean']})"
      ],
      "execution_count": null,
      "outputs": []
    },
    {
      "cell_type": "code",
      "metadata": {
        "id": "K8Bof54W1_Bo"
      },
      "source": [
        ""
      ],
      "execution_count": null,
      "outputs": []
    }
  ]
}